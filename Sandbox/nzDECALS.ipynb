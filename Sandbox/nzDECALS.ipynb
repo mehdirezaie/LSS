{
 "cells": [
  {
   "cell_type": "markdown",
   "metadata": {},
   "source": [
    "# Depth Monte Carlo & Mocks\n",
    "(c) Ashley Ross, Anand Raichoor, Julian Bautista, Lado Samushia, ..."
   ]
  },
  {
   "cell_type": "markdown",
   "metadata": {},
   "source": [
    "import required modules"
   ]
  },
  {
   "cell_type": "code",
   "execution_count": 1,
   "metadata": {},
   "outputs": [],
   "source": [
    "import fitsio\n",
    "import numpy as np\n",
    "import matplotlib.pyplot as plt\n",
    "from itertools import product\n",
    "from time import time\n",
    "import tqdm\n",
    "%matplotlib inline\n",
    "\n",
    "\n",
    "## desitarget on Mehdi's local\n",
    "#from desitarget.cuts import isELG_colors\n",
    "# to work on Mehdi's local pc\n",
    "from cuts import isELG_colors as colorcuts_function\n",
    "#colorcuts_function = cuts.isELG_colors "
   ]
  },
  {
   "cell_type": "code",
   "execution_count": 2,
   "metadata": {},
   "outputs": [],
   "source": [
    "plt.rc('font', family='serif', size=20)"
   ]
  },
  {
   "cell_type": "markdown",
   "metadata": {},
   "source": [
    "## Part 1: MC to get N(z) given depth_g,r,z\n",
    "### Parameters\n",
    "Here we define the redshift range of interest, 3D grid of depth-grz, ..."
   ]
  },
  {
   "cell_type": "code",
   "execution_count": 3,
   "metadata": {},
   "outputs": [],
   "source": [
    "# Parameters you may want to change are in the first five cells\n",
    "south=True\n",
    "\n",
    "# Redshift binning\n",
    "z_bin_width = 0.05\n",
    "z_min = 0.6\n",
    "z_max = 1.4\n",
    "Nzb   = int((z_max*1.001 - z_min)/z_bin_width)\n",
    "z_bin_edge = np.linspace(z_min, z_max, Nzb + 1) #bin edges for histogram, so Nb +1\n",
    "z_bin_mid = np.arange(z_min + z_bin_width/2.0, z_max, z_bin_width) #bin centers\n",
    "#z_bin_mid = 0.5*(z_bin_edge[1:]+z_bin_edge[:-1]) ## MR: how about this one?\n",
    "\n",
    "\n",
    "# Grid in color depth space\n",
    "gsig  = np.arange(0.01, 0.14, 0.01)\n",
    "rsig  = np.arange(0.01, 0.14, 0.01)\n",
    "zsig  = np.arange(0.04, 0.30, 0.01)\n",
    "Ngsig = np.size(gsig)\n",
    "Nrsig = np.size(rsig)\n",
    "Nzsig = np.size(zsig)\n",
    "\n",
    "# Array to hold n(z) values for each z and depth triplet\n",
    "nzgrz = np.zeros((Nzb, np.size(gsig), np.size(rsig), np.size(zsig)))\n",
    "\n",
    "# How many times do we sample each point in depth space?\n",
    "Nsamples = 10\n",
    "\n",
    "# Input files\n",
    "# deep DECaLS imaging, with photozs from HSC\n",
    "#truthf = '/global/cscratch1/sd/raichoor/desi_mcsyst/desi_mcsyst_truth.dr7.34ra38.-7dec-3.fits' \n",
    "truthf = '/home/mehdi/data/desi_mcsyst_truth.dr7.34ra38.-7dec-3.fits' ## Mehdi's local pc"
   ]
  },
  {
   "cell_type": "markdown",
   "metadata": {},
   "source": [
    "### Read\n",
    "Read the truth catalog, drop the faulty magnitudes, and transfer them to fluxes"
   ]
  },
  {
   "cell_type": "code",
   "execution_count": 3,
   "metadata": {},
   "outputs": [],
   "source": [
    "# Read the deep imaging catalog\n",
    "truth  = fitsio.read(truthf,1)\n",
    "\n",
    "# Get magnitudes, fluxes, photoz\n",
    "gmag  = truth[\"g\"]\n",
    "rmag  = truth[\"r\"]\n",
    "zmag  = truth[\"z\"]\n",
    "photz = truth['hsc_mizuki_photoz_best']\n",
    "\n",
    "# remove faulty magnitudes\n",
    "good_mag = np.isfinite(gmag)\n",
    "good_mag &= np.isfinite(rmag)\n",
    "good_mag &= np.isfinite(zmag)\n",
    "\n",
    "gmag  = gmag[good_mag]\n",
    "rmag  = rmag[good_mag]\n",
    "zmag  = zmag[good_mag]\n",
    "photz = photz[good_mag]\n",
    "\n",
    "# remove shallow areas\n",
    "good_mag = gmag < 24.5\n",
    "gmag  = gmag[good_mag]\n",
    "rmag  = rmag[good_mag]\n",
    "zmag  = zmag[good_mag]\n",
    "photz = photz[good_mag]\n",
    "\n",
    "gflux = 10**(-0.4*(gmag-22.5))\n",
    "rflux = 10**(-0.4*(rmag-22.5))\n",
    "zflux = 10**(-0.4*(zmag-22.5))\n",
    "\n",
    "#gflux = gflux[:,np.newaxis]\n",
    "#rflux = rflux[:,np.newaxis]\n",
    "#zflux = zflux[:,np.newaxis]"
   ]
  },
  {
   "cell_type": "markdown",
   "metadata": {},
   "source": [
    "### ELG selection and N(z)\n",
    "Define a function to perform the ELG selection for a given set of fluctuations in r,g and z fluxes. Another function computes the N(z) after the selection."
   ]
  },
  {
   "cell_type": "code",
   "execution_count": 4,
   "metadata": {},
   "outputs": [],
   "source": [
    "def ELGsel(gsig,rsig,zsig,south=True,snrc=True):\n",
    "    '''\n",
    "    calculate the ELG selection for given g,r,z flux uncertainties and a given region's selection\n",
    "    snrc can be toggled for the total signal to noise cut; tests suggest it is indeed necessary\n",
    "    '''\n",
    "    grand = np.random.normal(size=gflux.shape)\n",
    "    rrand = np.random.normal(size=rflux.shape)\n",
    "    zrand = np.random.normal(size=zflux.shape)\n",
    "    mgflux = gflux + grand*gsig\n",
    "    mrflux = rflux + rrand*rsig\n",
    "    mzflux = zflux + zrand*zsig\n",
    "    \n",
    "    combined_snr = np.sqrt(mgflux**2/gsig**2+mrflux**2/rsig**2+mzflux**2/zsig**2) #combined signal to noise; tractor ignores anything < 6\n",
    "    \n",
    "    selection = colorcuts_function(gflux=mgflux, rflux=mrflux, zflux=mzflux, w1flux=None, w2flux=None, south=south) \n",
    "    if snrc:\n",
    "        selection *= ( combined_snr > 6 ) * ( mgflux > 4*gsig ) * ( mrflux > 3.5*rsig ) * ( mzflux > 2.*zsig )\n",
    "    return selection"
   ]
  },
  {
   "cell_type": "code",
   "execution_count": 6,
   "metadata": {},
   "outputs": [],
   "source": [
    "def getnz(sigg,sigr,sigz):\n",
    "    '''\n",
    "    Number of galaxies in each redshift bin after adding some noise.\n",
    "    '''\n",
    "    sel = ELGsel(sigg,sigr,sigz,south=south)\n",
    "    nztest = np.histogram(photz[sel], range=(z_min,z_max), bins=z_bin_edge)\n",
    "    return nztest[0]"
   ]
  },
  {
   "cell_type": "markdown",
   "metadata": {},
   "source": [
    "### Run the MC on the grid"
   ]
  },
  {
   "cell_type": "markdown",
   "metadata": {},
   "source": [
    "Find n(z) for different values of depth in g,r,z"
   ]
  },
  {
   "cell_type": "code",
   "execution_count": 13,
   "metadata": {},
   "outputs": [
    {
     "name": "stdout",
     "output_type": "stream",
     "text": [
      ". \n",
      ". . . . . . . . . . . . . . . . . . . . . . . . . . . . . . . . . . . . . . . . . . . . . . . . . . . . . . . . . . . . . . . . . . . . . . . . . . . . . . . . . . . . . . . . . . . . . . . . . . . . \n",
      ". . . . . . . . . . . . . . . . . . . . . . . . . . . . . . . . . . . . . . . . . . . . . . . . . . . . . . . . . . . . . . . . . . . . . . . . . . . . . . . . . . . . . . . . . . . . . . . . . . . . \n",
      ". . . . . . . . . . . . . . . . . . . . . . . . . . . . . . . . . . . . . . . . . . . . . . . . . . . . . . . . . . . . . . . . . . . . . . . . . . . . . . . . . . . . . . . . . . . . . . . . . . . . \n",
      ". . . . . . . . . . . . . . . . . . . . . . . . . . . . . . . . . . . . . . . . . . . . . . . . . . . . . . . . . . . . . . . . . . . . . . . . . . . . . . . . . . . . . . . . . . . . . . . . . . . . \n",
      ". . . . . . . . . . . . . . . . . . . . . . . . . . . . . . . . . . . . . . . "
     ]
    }
   ],
   "source": [
    "##  Approach 1: vectorized numpy, requires gflux = gflux[:,np.newaxis]\n",
    "##  The average over Nsamples is\n",
    "#\n",
    "#  MR: this is 1.4x faster that than 'for' loops\n",
    "#\n",
    "# # gg, rr, zz = np.meshgrid(gsig, rsig, zsig)\n",
    "# # t1 = time()\n",
    "# # NZ = ELGsel(gg.ravel(), rr.ravel(), zz.ravel())\n",
    "# # t2 = time()\n",
    "# # t2-t1\n",
    "# t0 = time()\n",
    "# dNz = np.column_stack([np.histogram(photz[NZ[:,i]], bins=z_bin_edge)[0] for i in range(NZ.shape[1])])\n",
    "# t1 = time()\n",
    "# t1-t0\n",
    "# nzgrz = dNz.reshape((16, 13, 13, 26))\n",
    "\n",
    "\n",
    "# Find n(z) for different values of depth in g,r,z\n",
    "k = 0\n",
    "for ig, ir, iz in product(range(Ngsig), range(Nrsig), range(Nzsig)):\n",
    "    np.zeros((Nsamples,Nzb))\n",
    "    for i in range(Nsamples):\n",
    "        nz_sub = getnz(gsig[ig], rsig[ir], zsig[iz])\n",
    "        nz_subsampled[i,:] = nz_sub\n",
    "    nzgrz[:, ig, ir, iz] = np.mean(nz_subsampled, axis=0)\n",
    "    if k%10==0:print('.', end=' ')\n",
    "    if k%1000==0:print('')\n",
    "    k+=1"
   ]
  },
  {
   "cell_type": "markdown",
   "metadata": {},
   "source": [
    "save the Nz"
   ]
  },
  {
   "cell_type": "code",
   "execution_count": 14,
   "metadata": {},
   "outputs": [],
   "source": [
    "np.save('nz_grz.npy',nzgrz)"
   ]
  },
  {
   "cell_type": "markdown",
   "metadata": {},
   "source": [
    "## Explore the N(z)"
   ]
  },
  {
   "cell_type": "code",
   "execution_count": 4,
   "metadata": {},
   "outputs": [],
   "source": [
    "nzgrz = np.load('nz_grz.npy')"
   ]
  },
  {
   "cell_type": "code",
   "execution_count": 5,
   "metadata": {},
   "outputs": [
    {
     "data": {
      "text/plain": [
       "(16, 13, 13, 26)"
      ]
     },
     "execution_count": 5,
     "metadata": {},
     "output_type": "execute_result"
    }
   ],
   "source": [
    "nzgrz.shape"
   ]
  },
  {
   "cell_type": "markdown",
   "metadata": {},
   "source": [
    "`nzgrz` is a multidimensional array, respectively the axes are for the redshift, depth-g, r, and z."
   ]
  },
  {
   "cell_type": "markdown",
   "metadata": {},
   "source": [
    "### relative N(z) at Z = 0.9"
   ]
  },
  {
   "cell_type": "markdown",
   "metadata": {},
   "source": [
    "The 6th element is z = 0.9"
   ]
  },
  {
   "cell_type": "code",
   "execution_count": 6,
   "metadata": {},
   "outputs": [
    {
     "data": {
      "text/plain": [
       "0.9250000000000003"
      ]
     },
     "execution_count": 6,
     "metadata": {},
     "output_type": "execute_result"
    }
   ],
   "source": [
    "z_bin_mid[6]"
   ]
  },
  {
   "cell_type": "code",
   "execution_count": 7,
   "metadata": {},
   "outputs": [
    {
     "data": {
      "text/plain": [
       "<matplotlib.colorbar.Colorbar at 0x7fb35adf89d0>"
      ]
     },
     "execution_count": 7,
     "metadata": {},
     "output_type": "execute_result"
    },
    {
     "data": {
      "image/png": "[encoded data removed]",
      "text/plain": [
       "<Figure size 1152x432 with 3 Axes>"
      ]
     },
     "metadata": {
      "needs_background": "light"
     },
     "output_type": "display_data"
    }
   ],
   "source": [
    "# figure\n",
    "fig, ax = plt.subplots(ncols=2, figsize=(16, 6))\n",
    "fig.subplots_adjust(wspace=0.3)\n",
    "kw   = dict(vmin=0.6, vmax=1.4, aspect='auto', \n",
    "            interpolation='none', cmap=plt.cm.bwr)\n",
    "\n",
    "# depth-g vs depth-r\n",
    "map1 = ax[0].imshow(nzgrz[6,:,:, 10]/nzgrz[6,6,6,13],\n",
    "                    extent=[0.01, 0.13, 0.13, 0.01], **kw)\n",
    "\n",
    "# depth-g vs depth-z\n",
    "map2 = ax[1].imshow(nzgrz[6,:,6, :]/nzgrz[6,6,6,13], \n",
    "                    extent=[0.01, 0.13, 0.29, 0.04], **kw)\n",
    "\n",
    "# annotation\n",
    "ax[0].set(xlabel='g depth', ylabel='r depth')\n",
    "ax[1].set(xlabel='g depth', ylabel='z depth')\n",
    "fig.colorbar(map1, ax=ax, label='rel. N')"
   ]
  },
  {
   "cell_type": "markdown",
   "metadata": {},
   "source": [
    "### rel N(z) vs z"
   ]
  },
  {
   "cell_type": "code",
   "execution_count": 8,
   "metadata": {},
   "outputs": [
    {
     "data": {
      "text/plain": [
       "Text(0, 0.5, 'number ratio')"
      ]
     },
     "execution_count": 8,
     "metadata": {},
     "output_type": "execute_result"
    },
    {
     "data": {
      "image/png": "[encoded data removed]",
      "text/plain": [
       "<Figure size 432x288 with 1 Axes>"
      ]
     },
     "metadata": {
      "needs_background": "light"
     },
     "output_type": "display_data"
    }
   ],
   "source": [
    "plt.plot(z_bin_mid, nzgrz[:,3,3,10]/nzgrz[:,6,6,13])\n",
    "plt.xlabel('redshift')\n",
    "plt.ylabel('number ratio')"
   ]
  },
  {
   "cell_type": "markdown",
   "metadata": {},
   "source": [
    "## Part 2: Associate the N(z)s to the Imaging maps"
   ]
  },
  {
   "cell_type": "markdown",
   "metadata": {},
   "source": [
    "Read the imaging attributes in Healpix, and evaluate the fluctuations in depth_r,g,z of the pixels."
   ]
  },
  {
   "cell_type": "code",
   "execution_count": 9,
   "metadata": {},
   "outputs": [
    {
     "name": "stdout",
     "output_type": "stream",
     "text": [
      "columns= ('HPXPIXEL', 'FRACAREA', 'STARDENS', 'EBV', 'PSFDEPTH_G', 'PSFDEPTH_R', 'PSFDEPTH_Z', 'GALDEPTH_G', 'GALDEPTH_R', 'GALDEPTH_Z', 'PSFDEPTH_W1', 'PSFDEPTH_W2', 'PSFSIZE_G', 'PSFSIZE_R', 'PSFSIZE_Z', 'ELG', 'LRG', 'QSO', 'BGS_ANY', 'MWS_ANY', 'ALL', 'STD_FAINT', 'STD_BRIGHT', 'LRG_1PASS', 'LRG_2PASS', 'BGS_FAINT', 'BGS_BRIGHT', 'BGS_WISE', 'MWS_BROAD', 'MWS_MAIN_RED', 'MWS_MAIN_BLUE', 'MWS_WD', 'MWS_NEARBY')\n",
      "number of pixels (before cut)= 786432\n",
      "number of pixels (after cut) = 374065\n"
     ]
    }
   ],
   "source": [
    "#read in DR8 properties map\n",
    "#pixfn      = '/project/projectdirs/desi/target/catalogs/dr8/0.31.1/pixweight/pixweight-dr8-0.31.1.fits'\n",
    "pixfn      = '/home/mehdi/data/pixweight-dr8-0.31.1.fits' # Mehdi's local pc\n",
    "pix,header = fitsio.read(pixfn,header=True)\n",
    "HPXNSIDE   = header[\"HPXNSIDE\"]\n",
    "ii = np.where((pix[\"GALDEPTH_G\"]>0)&(pix[\"GALDEPTH_R\"]>0)&(pix[\"GALDEPTH_Z\"]>0)&(pix[\"FRACAREA\"]>0.01))[0]\n",
    "npix=ii.size\n",
    "\n",
    "print('columns=', pix.dtype.names)\n",
    "print('number of pixels (before cut)=', pix.size)\n",
    "print('number of pixels (after cut) =', npix)\n",
    "pix = pix[ii]\n",
    "\n",
    "depth_keyword=\"PSFDEPTH\"\n",
    "# gdepth=-2.5*np.log10(5/np.sqrt(pix[depth_keyword+\"_G\"]))+22.5\n",
    "# rdepth=-2.5*np.log10(5/np.sqrt(pix[depth_keyword+\"_R\"]))+22.5\n",
    "# zdepth=-2.5*np.log10(5/np.sqrt(pix[depth_keyword+\"_Z\"]))+22.5\n",
    "\n",
    "\n",
    "R_G=3.214 # http://legacysurvey.org/dr8/catalogs/#galactic-extinction-coefficients\n",
    "R_R=2.165\n",
    "R_Z=1.211\n",
    "gsigma=1./np.sqrt(pix[depth_keyword+\"_G\"])\n",
    "rsigma=1./np.sqrt(pix[depth_keyword+\"_R\"])\n",
    "zsigma=1./np.sqrt(pix[depth_keyword+\"_Z\"])\n",
    "\n",
    "\n",
    "Gsig = gsigma*10**(0.4*R_G*pix[\"EBV\"])\n",
    "Rsig = rsigma*10**(0.4*R_R*pix[\"EBV\"])\n",
    "Zsig = zsigma*10**(0.4*R_Z*pix[\"EBV\"])"
   ]
  },
  {
   "cell_type": "markdown",
   "metadata": {},
   "source": [
    "Use KDTree to find the closest grid points to each observation"
   ]
  },
  {
   "cell_type": "code",
   "execution_count": 10,
   "metadata": {},
   "outputs": [],
   "source": [
    "from sklearn.neighbors import KDTree"
   ]
  },
  {
   "cell_type": "code",
   "execution_count": 15,
   "metadata": {},
   "outputs": [
    {
     "name": "stdout",
     "output_type": "stream",
     "text": [
      "0.6753067970275879 sec\n"
     ]
    }
   ],
   "source": [
    "t0 = time()\n",
    "\n",
    "position_grz = np.column_stack([Gsig, Rsig, Zsig])\n",
    "\n",
    "# prepare the grid points\n",
    "GRZsig_grid  = np.meshgrid(gsig, rsig, zsig)\n",
    "GRZsig_grid  = np.column_stack([GRZsig_grid[i].ravel() for i in range(3)]) # 3: r, g, z\n",
    "\n",
    "\n",
    "MyTree    = KDTree(GRZsig_grid, leaf_size=3)\n",
    "dist, ind = MyTree.query(position_grz)\n",
    "ind       = ind.flatten()\n",
    "\n",
    "# reshape except the first axis ie. redshift\n",
    "mynzrgz = nzgrz.reshape(nzgrz.shape[0], -1) \n",
    "\n",
    "# assign the N(z)\n",
    "Nz_at_pos = mynzrgz[:, ind]\n",
    "\n",
    "print(time()-t0, 'sec')"
   ]
  },
  {
   "cell_type": "markdown",
   "metadata": {},
   "source": [
    "Let's save the N(Z) for each healpix pixel"
   ]
  },
  {
   "cell_type": "code",
   "execution_count": 16,
   "metadata": {},
   "outputs": [
    {
     "data": {
      "text/plain": [
       "(array([[ 33.9,  40.3,  37.4, ...,  75.9,  75.9,  50.5],\n",
       "        [ 72.1,  81.8,  75.1, ..., 124.7, 124.7,  92.4],\n",
       "        [133.1, 134.9, 131.8, ..., 155.7, 155.7, 141.9],\n",
       "        ...,\n",
       "        [574. , 567.2, 573.7, ..., 578.4, 578.4, 566.3],\n",
       "        [193.7, 192.9, 197.1, ..., 206.2, 206.2, 194.7],\n",
       "        [246.9, 244.4, 245.2, ..., 249.8, 249.8, 244.1]]), (16, 374065))"
      ]
     },
     "execution_count": 16,
     "metadata": {},
     "output_type": "execute_result"
    }
   ],
   "source": [
    "Nz_at_pos, Nz_at_pos.shape"
   ]
  },
  {
   "cell_type": "code",
   "execution_count": 20,
   "metadata": {},
   "outputs": [],
   "source": [
    "output = np.empty(pix['HPXPIXEL'].size, dtype=[('HPIXPIXEL', 'int32'),\n",
    "                                              ('Nz', ('f8', Nz_at_pos.shape[0]))])\n",
    "output['HPIXPIXEL'] = pix['HPXPIXEL']\n",
    "output['Nz']        = Nz_at_pos.T # reshape to [# pix, # z bins]\n",
    "fitsio.write('Nz_pixweight-dr8-0.31.1.fits', output, clobber=True)"
   ]
  },
  {
   "cell_type": "code",
   "execution_count": 21,
   "metadata": {},
   "outputs": [],
   "source": [
    "out = fitsio.read('Nz_pixweight-dr8-0.31.1.fits')"
   ]
  },
  {
   "cell_type": "code",
   "execution_count": 22,
   "metadata": {},
   "outputs": [
    {
     "data": {
      "text/plain": [
       "array([(     0, [ 33.9,  72.1, 133.1, 542.9, 825.5, 521.7, 440.7, 493.4, 508.2, 323.5, 559. , 393.7, 323.4, 574. , 193.7, 246.9]),\n",
       "       (     1, [ 40.3,  81.8, 134.9, 535.6, 809.6, 519. , 442.7, 492. , 517.8, 327.3, 555.8, 389.2, 320.9, 567.2, 192.9, 244.4]),\n",
       "       (     2, [ 37.4,  75.1, 131.8, 536.4, 810.4, 515.8, 444.1, 489.5, 513.6, 326.6, 559.1, 385.2, 316.7, 573.7, 197.1, 245.2]),\n",
       "       ...,\n",
       "       (786429, [ 75.9, 124.7, 155.7, 548.5, 816.6, 530. , 457.4, 503.6, 529.6, 328.6, 566.7, 398.8, 339.2, 578.4, 206.2, 249.8]),\n",
       "       (786430, [ 75.9, 124.7, 155.7, 548.5, 816.6, 530. , 457.4, 503.6, 529.6, 328.6, 566.7, 398.8, 339.2, 578.4, 206.2, 249.8]),\n",
       "       (786431, [ 50.5,  92.4, 141.9, 551.5, 823.8, 519.1, 447.5, 495.4, 520.8, 329.2, 554. , 393.6, 322.3, 566.3, 194.7, 244.1])],\n",
       "      dtype=[('HPIXPIXEL', '>i4'), ('Nz', '>f8', (16,))])"
      ]
     },
     "execution_count": 22,
     "metadata": {},
     "output_type": "execute_result"
    }
   ],
   "source": [
    "out"
   ]
  }
 ],
 "metadata": {
  "kernelspec": {
   "display_name": "python (py3p6)",
   "language": "python",
   "name": "py3p6"
  },
  "language_info": {
   "codemirror_mode": {
    "name": "ipython",
    "version": 3
   },
   "file_extension": ".py",
   "mimetype": "text/x-python",
   "name": "python",
   "nbconvert_exporter": "python",
   "pygments_lexer": "ipython3",
   "version": "3.7.4"
  }
 },
 "nbformat": 4,
 "nbformat_minor": 4
}
